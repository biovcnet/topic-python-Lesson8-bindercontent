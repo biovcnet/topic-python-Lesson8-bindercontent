{
 "cells": [
  {
   "cell_type": "code",
   "execution_count": null,
   "metadata": {},
   "outputs": [],
   "source": [
    "import pandas as pd"
   ]
  },
  {
   "cell_type": "markdown",
   "metadata": {},
   "source": [
    "Let's import the OTU table and the associated mapping file"
   ]
  },
  {
   "cell_type": "code",
   "execution_count": null,
   "metadata": {},
   "outputs": [],
   "source": [
    "OTUtable=pd.read_csv('fullabsOTUsl7GL4PAcopy.csv',index_col='#OTU ID')\n",
    "metadata=pd.read_csv('mapflcategoricalcopy.csv',header=[0,1])"
   ]
  },
  {
   "cell_type": "code",
   "execution_count": null,
   "metadata": {},
   "outputs": [],
   "source": [
    "#look at tables -type in"
   ]
  },
  {
   "cell_type": "markdown",
   "metadata": {},
   "source": [
    "Because we imported the metadata table with a multi-index header, we need to set the row indices separately"
   ]
  },
  {
   "cell_type": "code",
   "execution_count": null,
   "metadata": {},
   "outputs": [],
   "source": [
    "#set row index as \"index\"\n",
    "metadata = metadata.set_index(\"index\")\n",
    "\n",
    "#it sets as a wierd tuple, so needs to be fixed\n",
    "rind = []\n",
    "for ind in metadata.index:\n",
    "    rind.append(ind[0])\n",
    "metadata.index = rind"
   ]
  },
  {
   "cell_type": "markdown",
   "metadata": {},
   "source": [
    "Look at the metdata table to observe the multi-indexing. Notice that all of my metadata columns are ranked/categorical from prior data analysis except sample depth."
   ]
  },
  {
   "cell_type": "code",
   "execution_count": null,
   "metadata": {},
   "outputs": [],
   "source": [
    "metadata"
   ]
  },
  {
   "cell_type": "markdown",
   "metadata": {},
   "source": [
    "Notice that i have not set an index column for metadata. This is because I am importing the dataframe with a multi-indexed header. The first row of headers indicates the type of data that the column header below is (index,continuous data, categorical data). \n",
    "\n",
    "We can slice along indices at varying levels by using the `metadata.xs` function. the syntax is `metadata.xs('index category',index level, axis)`. Let's examine the indexing a few different ways."
   ]
  },
  {
   "cell_type": "code",
   "execution_count": null,
   "metadata": {},
   "outputs": [],
   "source": [
    "#access all columns with the level 0 index \"categorical\"\n",
    "metadata.xs('categorical',level=0,axis=1)"
   ]
  },
  {
   "cell_type": "markdown",
   "metadata": {},
   "source": [
    "notice that I get all 4 columns of data in the dataframe that are labelled at indexing level 0 as \"categorical\""
   ]
  },
  {
   "cell_type": "code",
   "execution_count": null,
   "metadata": {},
   "outputs": [],
   "source": [
    "#access the column \"sulfide\" within that level\n",
    "metadata.xs('categorical',level=0,axis=1)['sulfide']"
   ]
  },
  {
   "cell_type": "markdown",
   "metadata": {},
   "source": [
    "Let's exame index level one. "
   ]
  },
  {
   "cell_type": "code",
   "execution_count": null,
   "metadata": {},
   "outputs": [],
   "source": [
    "metadata.xs('sulfide',level=1,axis=1)"
   ]
  },
  {
   "cell_type": "markdown",
   "metadata": {},
   "source": [
    "Notice that the level 0 index is visible as a column header"
   ]
  },
  {
   "cell_type": "markdown",
   "metadata": {},
   "source": [
    "The first thing to do is filter our OTU table. First let's get rid of any OTUs that are empty in all samples, or any samples that have no OTU read counts (i.e., failed to amplify)\n",
    "\n",
    "To do this, we can use the pandas `.all` function. The syntax is `(criterion).all(axis)`, where `axis=1` is across all columns and `axis=0` is across all rows. "
   ]
  },
  {
   "cell_type": "code",
   "execution_count": null,
   "metadata": {},
   "outputs": [],
   "source": [
    "#show rows from OTU table that have na in all samples. \n",
    "OTUtable.loc[OTUtable.isna().all(axis=1)]"
   ]
  },
  {
   "cell_type": "markdown",
   "metadata": {},
   "source": [
    "Notice that we only have an empty data table returned. This means there are no OTUs that need to be removed by this criterion. Now let's check the other way (are any samples all NAN?)"
   ]
  },
  {
   "cell_type": "code",
   "execution_count": null,
   "metadata": {},
   "outputs": [],
   "source": [
    "#show columns from OTU table that have na across all OTUs. \n",
    "OTUtable.isna().all(axis=0)"
   ]
  },
  {
   "cell_type": "markdown",
   "metadata": {},
   "source": [
    "The function returns each column header as an index with an associated boolean value. In this case, the blank has NaN for all OTUs. Let's retrieve the column headers of the columns we want to keep...where the condition is False (the boolean object's indices). "
   ]
  },
  {
   "cell_type": "code",
   "execution_count": null,
   "metadata": {},
   "outputs": [],
   "source": [
    "colsBoolobj=OTUtable.isna().all(axis=0)\n",
    "keepCols=colsBoolobj.loc[colsBoolobj==False].index"
   ]
  },
  {
   "cell_type": "markdown",
   "metadata": {},
   "source": [
    "Let's take a look at keepCols"
   ]
  },
  {
   "cell_type": "code",
   "execution_count": null,
   "metadata": {},
   "outputs": [],
   "source": [
    "keepCols"
   ]
  },
  {
   "cell_type": "code",
   "execution_count": null,
   "metadata": {},
   "outputs": [],
   "source": [
    "OTUtable=OTUtable[keepCols]"
   ]
  },
  {
   "cell_type": "code",
   "execution_count": null,
   "metadata": {},
   "outputs": [],
   "source": [
    "OTUtable"
   ]
  },
  {
   "cell_type": "markdown",
   "metadata": {},
   "source": [
    "Now that we haved removed NaN we need to further filter our OTU table.\n",
    "\n",
    "The pandas `str.contains` function can be used to search entire columns for substrings. In this case, we are going to use `.index` to search the OTU ID column that we have set as the index column for the data frame for chloroplasts. To search for multiple substrings at once, they can be entered into the `str.contains` function as one string and separated by a `|`"
   ]
  },
  {
   "cell_type": "code",
   "execution_count": null,
   "metadata": {},
   "outputs": [],
   "source": [
    "#show chloroplast entries in OTU table\n",
    "OTUtable[OTUtable.index.str.contains('Chloroplast|chloroplast')]"
   ]
  },
  {
   "cell_type": "markdown",
   "metadata": {},
   "source": [
    "Notice when we look at the output of this command, we get a pandas dataframe showing all the rows where **Chloroplast** or **chloroplast** is in the OTU ID. "
   ]
  },
  {
   "cell_type": "markdown",
   "metadata": {},
   "source": [
    "We can use the `~` operator to return a pandas dataframe that does NOT contain those rows"
   ]
  },
  {
   "cell_type": "code",
   "execution_count": null,
   "metadata": {},
   "outputs": [],
   "source": [
    "#filter chloroplasts out of OTU table\n",
    "OTUtable=OTUtable[~OTUtable.index.str.contains('Chloroplast|chloroplast')]"
   ]
  },
  {
   "cell_type": "markdown",
   "metadata": {},
   "source": [
    "Now we can filter the data based on any other criteria we choose."
   ]
  },
  {
   "cell_type": "markdown",
   "metadata": {},
   "source": [
    "The same syntax can be used as above in the pandas function `.isna()` to look for OTUs with less than 10 reads in all samples. We can use `.all` in combination with `.loc` to refer to row index. "
   ]
  },
  {
   "cell_type": "code",
   "execution_count": null,
   "metadata": {},
   "outputs": [],
   "source": [
    "#show rows from OTU table that have less than 10 reads in all samples\n",
    "OTUtable.loc[(OTUtable<10).all(axis=1)]"
   ]
  },
  {
   "cell_type": "code",
   "execution_count": null,
   "metadata": {},
   "outputs": [],
   "source": [
    "#remove rows from OTU table that have less than 10 reads in all samples\n",
    "OTUtable=OTUtable.loc[~(OTUtable<10).all(axis=1)]"
   ]
  },
  {
   "cell_type": "markdown",
   "metadata": {},
   "source": [
    "Finally, let's use the `str.contains` function one more time to filter the OTU table to only contain photoautotrophs"
   ]
  },
  {
   "cell_type": "code",
   "execution_count": null,
   "metadata": {},
   "outputs": [],
   "source": [
    "photoautoOTUs=OTUtable[OTUtable.index.str.contains('Cyanobiaceae|Chlorobiaceae|Chromatiaceae')]"
   ]
  },
  {
   "cell_type": "code",
   "execution_count": null,
   "metadata": {},
   "outputs": [],
   "source": [
    "photoautoOTUs"
   ]
  },
  {
   "cell_type": "markdown",
   "metadata": {},
   "source": [
    "Now we are ready to set up our metadata file. This OTU table is a subset of all samples, so we can use the pandas `.drop` function to remove rows from the metadata table that are irrelevant. In the meanwhile, we can also retrieve a list of the appropriate indices to use later."
   ]
  },
  {
   "cell_type": "code",
   "execution_count": null,
   "metadata": {},
   "outputs": [],
   "source": [
    "toRem=[]\n",
    "\n",
    "for s in metadata.index:\n",
    "    print(s)\n",
    "    if s not in photoautoOTUs.columns:\n",
    "        toRem.append(s)"
   ]
  },
  {
   "cell_type": "code",
   "execution_count": null,
   "metadata": {},
   "outputs": [],
   "source": [
    "toRem"
   ]
  },
  {
   "cell_type": "code",
   "execution_count": null,
   "metadata": {},
   "outputs": [],
   "source": [
    "clMetadata=metadata.drop(toRem)"
   ]
  },
  {
   "cell_type": "markdown",
   "metadata": {},
   "source": [
    "let's look at our cleaned metadata table"
   ]
  },
  {
   "cell_type": "code",
   "execution_count": null,
   "metadata": {},
   "outputs": [],
   "source": [
    "clMetadata"
   ]
  },
  {
   "cell_type": "code",
   "execution_count": null,
   "metadata": {},
   "outputs": [],
   "source": [
    "#examine categorical data\n",
    "clMetadata.xs('categorical',level=0,axis=1)"
   ]
  },
  {
   "cell_type": "markdown",
   "metadata": {},
   "source": [
    "We can take advantage of our multi-indexing along with the `.groupby` function to exame our photoautotroph OTUs in relationship to our categorical metadata columns. First, we need to reformat the OTU table to match the metadata table. This can be done with the pandas `transpose` function."
   ]
  },
  {
   "cell_type": "code",
   "execution_count": null,
   "metadata": {},
   "outputs": [],
   "source": [
    "photoautoOTUsT=photoautoOTUs.T"
   ]
  },
  {
   "cell_type": "code",
   "execution_count": null,
   "metadata": {},
   "outputs": [],
   "source": [
    "for OTU in photoautoOTUsT.columns:\n",
    "    print(\"OTU: \",OTU)\n",
    "    temp=pd.concat([photoautoOTUsT[OTU],clMetadata.xs('categorical',level=0,axis=1)],axis=1)\n",
    "    for c in temp.columns[1:]:        \n",
    "        for name, group in temp.groupby([c]):\n",
    "            print(c, \":\", name)\n",
    "            print(group)\n",
    "            print(\"\\n\\n\\n\")"
   ]
  },
  {
   "cell_type": "code",
   "execution_count": null,
   "metadata": {},
   "outputs": [],
   "source": []
  }
 ],
 "metadata": {
  "kernelspec": {
   "display_name": "Python 3",
   "language": "python",
   "name": "python3"
  },
  "language_info": {
   "codemirror_mode": {
    "name": "ipython",
    "version": 3
   },
   "file_extension": ".py",
   "mimetype": "text/x-python",
   "name": "python",
   "nbconvert_exporter": "python",
   "pygments_lexer": "ipython3",
   "version": "3.6.7"
  }
 },
 "nbformat": 4,
 "nbformat_minor": 4
}
